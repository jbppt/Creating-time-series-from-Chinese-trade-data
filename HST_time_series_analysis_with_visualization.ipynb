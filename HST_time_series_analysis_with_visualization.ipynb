{
 "cells": [
  {
   "cell_type": "code",
   "execution_count": null,
   "metadata": {},
   "outputs": [],
   "source": [
    "import pandas as pd"
   ]
  },
  {
   "cell_type": "code",
   "execution_count": null,
   "metadata": {
    "scrolled": true
   },
   "outputs": [],
   "source": [
    "#loading a local excel sheet into pandas and then showing the first 15 rows of monthly trade data. creating a dataframe for that sheet.\n",
    "df = pd.read_excel('itc_textile_apparel_import_monitoring_report_data.xlsx', sheet_name=1)\n",
    "df.head(15)"
   ]
  },
  {
   "cell_type": "code",
   "execution_count": null,
   "metadata": {},
   "outputs": [],
   "source": [
    "#checking the datatypes of the first six columns \n",
    "first_six=df.iloc[:,:6]\n",
    "first_six.info()"
   ]
  },
  {
   "cell_type": "code",
   "execution_count": null,
   "metadata": {},
   "outputs": [],
   "source": [
    "#filtering items of interest \n",
    "categories_filter = ['5407200000','6104622011']\n",
    "filt = df['Category or HTS number'].isin(categories_filter)\n",
    "items_of_interest=df.loc[filt]"
   ]
  },
  {
   "cell_type": "code",
   "execution_count": null,
   "metadata": {},
   "outputs": [],
   "source": [
    "#filtering for the specific columns we want to see. Calling the new dataframe df2\n",
    "df2=items_of_interest[(items_of_interest.Source=='China') & (items_of_interest.Item=='Value (dollars)')]"
   ]
  },
  {
   "cell_type": "code",
   "execution_count": null,
   "metadata": {},
   "outputs": [],
   "source": [
    "#transposing df2 into a new dataframe called df3\n",
    "df3=df2.T\n",
    "df3"
   ]
  },
  {
   "cell_type": "code",
   "execution_count": null,
   "metadata": {},
   "outputs": [],
   "source": [
    "#cleaning up the new dataframe into a time series. Deleting the first five rows in Pandas. \n",
    "df4 = df3.iloc[6:234]\n",
    "df4"
   ]
  },
  {
   "cell_type": "code",
   "execution_count": null,
   "metadata": {},
   "outputs": [],
   "source": [
    "#reversing the row order of the dataframe\n",
    "df5 = df4.loc[::-1]\n",
    "df5"
   ]
  },
  {
   "cell_type": "code",
   "execution_count": null,
   "metadata": {},
   "outputs": [],
   "source": [
    "#changing the column titles \n",
    "df5.rename({420:'Value (dollars) for Woven Fabrics Of Synthetic Filament Yarn', 990:'Value (dollars) Womens Trousers And Breeches'}, \n",
    "axis=1,inplace=True)\n",
    "df5"
   ]
  },
  {
   "cell_type": "code",
   "execution_count": null,
   "metadata": {},
   "outputs": [],
   "source": [
    "#importing matplotlib and making charts available inside the notebook\n",
    "import matplotlib.pyplot as plt\n",
    "%matplotlib notebook "
   ]
  },
  {
   "cell_type": "code",
   "execution_count": null,
   "metadata": {},
   "outputs": [],
   "source": [
    "df5.plot()"
   ]
  },
  {
   "cell_type": "code",
   "execution_count": null,
   "metadata": {},
   "outputs": [],
   "source": [
    "#creating subplots\n",
    "fig2, ax2 = plt.subplots(2,1)\n",
    "df5['Value (dollars) for Woven Fabrics Of Synthetic Filament Yarn'].plot(ax=ax2[0])\n",
    "df5['Value (dollars) Womens Trousers And Breeches'].plot(ax=ax2[1])\n",
    "plt.ticklabel_format(axis='y',style='plain')\n",
    "plt.tight_layout()"
   ]
  },
  {
   "cell_type": "code",
   "execution_count": null,
   "metadata": {},
   "outputs": [],
   "source": []
  }
 ],
 "metadata": {
  "kernelspec": {
   "display_name": "Python 3 (ipykernel)",
   "language": "python",
   "name": "python3"
  },
  "language_info": {
   "codemirror_mode": {
    "name": "ipython",
    "version": 3
   },
   "file_extension": ".py",
   "mimetype": "text/x-python",
   "name": "python",
   "nbconvert_exporter": "python",
   "pygments_lexer": "ipython3",
   "version": "3.8.16"
  }
 },
 "nbformat": 4,
 "nbformat_minor": 4
}
